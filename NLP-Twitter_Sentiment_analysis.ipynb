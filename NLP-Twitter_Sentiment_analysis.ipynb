{
  "nbformat": 4,
  "nbformat_minor": 0,
  "metadata": {
    "kernelspec": {
      "display_name": "Python 3",
      "language": "python",
      "name": "python3"
    },
    "language_info": {
      "codemirror_mode": {
        "name": "ipython",
        "version": 3
      },
      "file_extension": ".py",
      "mimetype": "text/x-python",
      "name": "python",
      "nbconvert_exporter": "python",
      "pygments_lexer": "ipython3",
      "version": "3.7.3"
    },
    "colab": {
      "name": "Twitter Sentiment analysis.ipynb",
      "version": "0.3.2",
      "provenance": [],
      "include_colab_link": true
    }
  },
  "cells": [
    {
      "cell_type": "markdown",
      "metadata": {
        "id": "view-in-github",
        "colab_type": "text"
      },
      "source": [
        "<a href=\"https://colab.research.google.com/github/shailendrarg/NLP/blob/master/NLP-Twitter_Sentiment_analysis.ipynb\" target=\"_parent\"><img src=\"https://colab.research.google.com/assets/colab-badge.svg\" alt=\"Open In Colab\"/></a>"
      ]
    },
    {
      "cell_type": "code",
      "metadata": {
        "id": "KOuU5vgKcJ_j",
        "colab_type": "code",
        "colab": {}
      },
      "source": [
        "import pandas as pd\n",
        "import numpy as np\n",
        "\n"
      ],
      "execution_count": 0,
      "outputs": []
    },
    {
      "cell_type": "code",
      "metadata": {
        "id": "v8sVqZedcJ_o",
        "colab_type": "code",
        "colab": {}
      },
      "source": [
        "train_path=\"C:\\\\Users\\\\vidya\\\\Pictures\\\\twitter-sentiment-analysis2\\\\train.csv\"\n",
        "df=pd.read_csv(train_path,encoding = \"ISO-8859-1\")"
      ],
      "execution_count": 0,
      "outputs": []
    },
    {
      "cell_type": "code",
      "metadata": {
        "scrolled": true,
        "id": "OOj0HBmGcJ_r",
        "colab_type": "code",
        "colab": {},
        "outputId": "e0bbfaec-662f-46d9-84b4-856e3c78bd75"
      },
      "source": [
        "df.head()"
      ],
      "execution_count": 0,
      "outputs": [
        {
          "output_type": "execute_result",
          "data": {
            "text/html": [
              "<div>\n",
              "<style scoped>\n",
              "    .dataframe tbody tr th:only-of-type {\n",
              "        vertical-align: middle;\n",
              "    }\n",
              "\n",
              "    .dataframe tbody tr th {\n",
              "        vertical-align: top;\n",
              "    }\n",
              "\n",
              "    .dataframe thead th {\n",
              "        text-align: right;\n",
              "    }\n",
              "</style>\n",
              "<table border=\"1\" class=\"dataframe\">\n",
              "  <thead>\n",
              "    <tr style=\"text-align: right;\">\n",
              "      <th></th>\n",
              "      <th>ItemID</th>\n",
              "      <th>Sentiment</th>\n",
              "      <th>SentimentText</th>\n",
              "    </tr>\n",
              "  </thead>\n",
              "  <tbody>\n",
              "    <tr>\n",
              "      <th>0</th>\n",
              "      <td>1</td>\n",
              "      <td>0</td>\n",
              "      <td>is so sad for my APL frie...</td>\n",
              "    </tr>\n",
              "    <tr>\n",
              "      <th>1</th>\n",
              "      <td>2</td>\n",
              "      <td>0</td>\n",
              "      <td>I missed the New Moon trail...</td>\n",
              "    </tr>\n",
              "    <tr>\n",
              "      <th>2</th>\n",
              "      <td>3</td>\n",
              "      <td>1</td>\n",
              "      <td>omg its already 7:30 :O</td>\n",
              "    </tr>\n",
              "    <tr>\n",
              "      <th>3</th>\n",
              "      <td>4</td>\n",
              "      <td>0</td>\n",
              "      <td>.. Omgaga. Im sooo  im gunna CRy. I'...</td>\n",
              "    </tr>\n",
              "    <tr>\n",
              "      <th>4</th>\n",
              "      <td>5</td>\n",
              "      <td>0</td>\n",
              "      <td>i think mi bf is cheating on me!!!   ...</td>\n",
              "    </tr>\n",
              "  </tbody>\n",
              "</table>\n",
              "</div>"
            ],
            "text/plain": [
              "   ItemID  Sentiment                                      SentimentText\n",
              "0       1          0                       is so sad for my APL frie...\n",
              "1       2          0                     I missed the New Moon trail...\n",
              "2       3          1                            omg its already 7:30 :O\n",
              "3       4          0            .. Omgaga. Im sooo  im gunna CRy. I'...\n",
              "4       5          0           i think mi bf is cheating on me!!!   ..."
            ]
          },
          "metadata": {
            "tags": []
          },
          "execution_count": 6
        }
      ]
    },
    {
      "cell_type": "code",
      "metadata": {
        "id": "HbpVzXO0cJ_w",
        "colab_type": "code",
        "colab": {}
      },
      "source": [
        "#removing item IDasit serves no use for ML\n",
        "df.drop(columns=[\"ItemID\"],axis=1,inplace=True)"
      ],
      "execution_count": 0,
      "outputs": []
    },
    {
      "cell_type": "code",
      "metadata": {
        "scrolled": false,
        "id": "Qp2jfxjDcJ_z",
        "colab_type": "code",
        "colab": {},
        "outputId": "1f41dd3c-f7ba-4eea-90f6-f08127606c88"
      },
      "source": [
        "df.head()"
      ],
      "execution_count": 0,
      "outputs": [
        {
          "output_type": "execute_result",
          "data": {
            "text/html": [
              "<div>\n",
              "<style scoped>\n",
              "    .dataframe tbody tr th:only-of-type {\n",
              "        vertical-align: middle;\n",
              "    }\n",
              "\n",
              "    .dataframe tbody tr th {\n",
              "        vertical-align: top;\n",
              "    }\n",
              "\n",
              "    .dataframe thead th {\n",
              "        text-align: right;\n",
              "    }\n",
              "</style>\n",
              "<table border=\"1\" class=\"dataframe\">\n",
              "  <thead>\n",
              "    <tr style=\"text-align: right;\">\n",
              "      <th></th>\n",
              "      <th>Sentiment</th>\n",
              "      <th>SentimentText</th>\n",
              "    </tr>\n",
              "  </thead>\n",
              "  <tbody>\n",
              "    <tr>\n",
              "      <th>0</th>\n",
              "      <td>0</td>\n",
              "      <td>is so sad for my APL frie...</td>\n",
              "    </tr>\n",
              "    <tr>\n",
              "      <th>1</th>\n",
              "      <td>0</td>\n",
              "      <td>I missed the New Moon trail...</td>\n",
              "    </tr>\n",
              "    <tr>\n",
              "      <th>2</th>\n",
              "      <td>1</td>\n",
              "      <td>omg its already 7:30 :O</td>\n",
              "    </tr>\n",
              "    <tr>\n",
              "      <th>3</th>\n",
              "      <td>0</td>\n",
              "      <td>.. Omgaga. Im sooo  im gunna CRy. I'...</td>\n",
              "    </tr>\n",
              "    <tr>\n",
              "      <th>4</th>\n",
              "      <td>0</td>\n",
              "      <td>i think mi bf is cheating on me!!!   ...</td>\n",
              "    </tr>\n",
              "  </tbody>\n",
              "</table>\n",
              "</div>"
            ],
            "text/plain": [
              "   Sentiment                                      SentimentText\n",
              "0          0                       is so sad for my APL frie...\n",
              "1          0                     I missed the New Moon trail...\n",
              "2          1                            omg its already 7:30 :O\n",
              "3          0            .. Omgaga. Im sooo  im gunna CRy. I'...\n",
              "4          0           i think mi bf is cheating on me!!!   ..."
            ]
          },
          "metadata": {
            "tags": []
          },
          "execution_count": 10
        }
      ]
    },
    {
      "cell_type": "code",
      "metadata": {
        "id": "IgW_kRDPcJ_2",
        "colab_type": "code",
        "colab": {},
        "outputId": "946f193a-f702-48f8-ea1c-b7c8f3782185"
      },
      "source": [
        "df.isnull().sum()  #no missing data"
      ],
      "execution_count": 0,
      "outputs": [
        {
          "output_type": "execute_result",
          "data": {
            "text/plain": [
              "Sentiment        0\n",
              "SentimentText    0\n",
              "dtype: int64"
            ]
          },
          "metadata": {
            "tags": []
          },
          "execution_count": 16
        }
      ]
    },
    {
      "cell_type": "code",
      "metadata": {
        "scrolled": true,
        "id": "3hZw24u0cJ_6",
        "colab_type": "code",
        "colab": {},
        "outputId": "85d14d38-a333-48ba-b7bd-7d2ab998e0be"
      },
      "source": [
        "#check for sentiment uniwue values\n",
        "df.Sentiment.unique()  #there are only two sentiments"
      ],
      "execution_count": 0,
      "outputs": [
        {
          "output_type": "execute_result",
          "data": {
            "text/plain": [
              "array([0, 1], dtype=int64)"
            ]
          },
          "metadata": {
            "tags": []
          },
          "execution_count": 11
        }
      ]
    },
    {
      "cell_type": "code",
      "metadata": {
        "id": "yfQkl5HicJ_9",
        "colab_type": "code",
        "colab": {},
        "outputId": "87e155af-a6e5-46fa-a49e-b1b86ce7beaf"
      },
      "source": [
        "#lets check if the dataset is balanced\n",
        "(df.Sentiment==0).sum() # 0-Negative sentiment"
      ],
      "execution_count": 0,
      "outputs": [
        {
          "output_type": "execute_result",
          "data": {
            "text/plain": [
              "43532"
            ]
          },
          "metadata": {
            "tags": []
          },
          "execution_count": 12
        }
      ]
    },
    {
      "cell_type": "code",
      "metadata": {
        "scrolled": true,
        "id": "X2XWbWAlcJ__",
        "colab_type": "code",
        "colab": {},
        "outputId": "72397755-eb44-49c6-8f36-aab763fb135b"
      },
      "source": [
        "(df.Sentiment==1).sum() #positive sentiment"
      ],
      "execution_count": 0,
      "outputs": [
        {
          "output_type": "execute_result",
          "data": {
            "text/plain": [
              "56457"
            ]
          },
          "metadata": {
            "tags": []
          },
          "execution_count": 13
        }
      ]
    },
    {
      "cell_type": "code",
      "metadata": {
        "id": "83BuaYuhcKAC",
        "colab_type": "code",
        "colab": {},
        "outputId": "c214280b-affa-4a13-e37c-2e68fb3337f3"
      },
      "source": [
        "#checking the ratio of sentiments\n",
        "43532/56457  # its a balanced one\n"
      ],
      "execution_count": 0,
      "outputs": [
        {
          "output_type": "execute_result",
          "data": {
            "text/plain": [
              "0.7710647041110934"
            ]
          },
          "metadata": {
            "tags": []
          },
          "execution_count": 14
        }
      ]
    },
    {
      "cell_type": "code",
      "metadata": {
        "scrolled": true,
        "id": "NVkDTvWNcKAF",
        "colab_type": "code",
        "colab": {},
        "outputId": "65d879e4-518d-4d82-dc43-935b0551fe84"
      },
      "source": [
        "df.SentimentText.head()  #it needs to be converted to as a numerical feature using NLP"
      ],
      "execution_count": 0,
      "outputs": [
        {
          "output_type": "execute_result",
          "data": {
            "text/plain": [
              "0                         is so sad for my APL frie...\n",
              "1                       I missed the New Moon trail...\n",
              "2                              omg its already 7:30 :O\n",
              "3              .. Omgaga. Im sooo  im gunna CRy. I'...\n",
              "4             i think mi bf is cheating on me!!!   ...\n",
              "Name: SentimentText, dtype: object"
            ]
          },
          "metadata": {
            "tags": []
          },
          "execution_count": 18
        }
      ]
    },
    {
      "cell_type": "code",
      "metadata": {
        "scrolled": true,
        "id": "Fi6QRZ0QcKAI",
        "colab_type": "code",
        "colab": {},
        "outputId": "a9bd31b4-a343-44ae-a3cd-f67e86930ad8"
      },
      "source": [
        "data=df.SentimentText.values\n",
        "data[0:10]"
      ],
      "execution_count": 0,
      "outputs": [
        {
          "output_type": "execute_result",
          "data": {
            "text/plain": [
              "array(['                     is so sad for my APL friend.............',\n",
              "       '                   I missed the New Moon trailer...',\n",
              "       '              omg its already 7:30 :O',\n",
              "       \"          .. Omgaga. Im sooo  im gunna CRy. I've been at this dentist since 11.. I was suposed 2 just get a crown put on (30mins)...\",\n",
              "       '         i think mi bf is cheating on me!!!       T_T',\n",
              "       '         or i just worry too much?        ',\n",
              "       '       Juuuuuuuuuuuuuuuuussssst Chillin!!',\n",
              "       '       Sunny Again        Work Tomorrow  :-|       TV Tonight',\n",
              "       '      handed in my uniform today . i miss you already',\n",
              "       '      hmmmm.... i wonder how she my number @-)'], dtype=object)"
            ]
          },
          "metadata": {
            "tags": []
          },
          "execution_count": 21
        }
      ]
    },
    {
      "cell_type": "code",
      "metadata": {
        "id": "mqUL4tVxcKAM",
        "colab_type": "code",
        "colab": {},
        "outputId": "0be04ed3-3aec-47de-8893-e60de0295160"
      },
      "source": [
        "type(data[0])"
      ],
      "execution_count": 0,
      "outputs": [
        {
          "output_type": "execute_result",
          "data": {
            "text/plain": [
              "str"
            ]
          },
          "metadata": {
            "tags": []
          },
          "execution_count": 28
        }
      ]
    },
    {
      "cell_type": "code",
      "metadata": {
        "id": "XVG8oIrncKAP",
        "colab_type": "code",
        "colab": {}
      },
      "source": [
        "import nltk\n",
        "import re\n",
        "from nltk.corpus import stopwords\n",
        "from nltk.stem import WordNetLemmatizer  # lemmatizer\n",
        "lm=WordNetLemmatizer()\n",
        "final_sentiments =[]\n",
        "for i in range(0,len(data)):\n",
        "    sentences=re.sub(\"[^AZ-az]\",\" \",data[i])#remove punctuations\n",
        "    sentences=sentences.lower() #make all lowercase\n",
        "    sentences=sentences.split() #split to make words\n",
        "    sentences=[lm.lemmatize(words)for words in sentences if not words in stopwords.words(\"english\") ] #lamatise the words\n",
        "    sentences=\" \".join(sentences) #add those words \n",
        "    final_sentiments.append(sentences) #make a final list with data\n",
        "    "
      ],
      "execution_count": 0,
      "outputs": []
    },
    {
      "cell_type": "code",
      "metadata": {
        "id": "-nBAHJt0cKAT",
        "colab_type": "code",
        "colab": {}
      },
      "source": [
        "len(final_sentiments)"
      ],
      "execution_count": 0,
      "outputs": []
    },
    {
      "cell_type": "code",
      "metadata": {
        "id": "xNqoHpV5cKAW",
        "colab_type": "code",
        "colab": {}
      },
      "source": [
        "#converting the words into numbers for TF-idf\n",
        "from sklearn.feature_extraction.text import TfidfVectorizer\n",
        "tf=TfidfVectorizer()\n",
        "X=tf.fit_transform(final_sentiments).toarray()"
      ],
      "execution_count": 0,
      "outputs": []
    },
    {
      "cell_type": "code",
      "metadata": {
        "scrolled": true,
        "id": "UYZOIEg4cKAb",
        "colab_type": "code",
        "colab": {},
        "outputId": "a017f304-10a1-44fd-aac1-bc8aa4986524"
      },
      "source": [
        "X.shape  #it has 110 unique features"
      ],
      "execution_count": 0,
      "outputs": [
        {
          "output_type": "execute_result",
          "data": {
            "text/plain": [
              "(99989, 110)"
            ]
          },
          "metadata": {
            "tags": []
          },
          "execution_count": 40
        }
      ]
    },
    {
      "cell_type": "code",
      "metadata": {
        "id": "nSxvA4mIcKAe",
        "colab_type": "code",
        "colab": {},
        "outputId": "b154e3e8-dcdb-4aa7-b71f-36f4ff2195c9"
      },
      "source": [
        "y=df.Sentiment\n",
        "y.shape"
      ],
      "execution_count": 0,
      "outputs": [
        {
          "output_type": "execute_result",
          "data": {
            "text/plain": [
              "(99989,)"
            ]
          },
          "metadata": {
            "tags": []
          },
          "execution_count": 42
        }
      ]
    },
    {
      "cell_type": "code",
      "metadata": {
        "id": "eoKNlEjdcKAh",
        "colab_type": "code",
        "colab": {}
      },
      "source": [
        "#Using classififcation algorthm\n",
        "from sklearn.ensemble import RandomForestClassifier\n",
        "rf=RandomForestClassifier()\n",
        "from sklearn.metrics import accuracy_score\n",
        "from sklearn.model_selection import train_test_split\n",
        "X_train,X_test,y_train,y_test =train_test_split(X,y,test_size=0.2,random_state=0)\n",
        "   "
      ],
      "execution_count": 0,
      "outputs": []
    },
    {
      "cell_type": "code",
      "metadata": {
        "id": "8AIORdYOcKAj",
        "colab_type": "code",
        "colab": {},
        "outputId": "ea3a5101-9f3e-44f4-bee4-7feb34bf3942"
      },
      "source": [
        "from sklearn.naive_bayes import MultinomialNB\n",
        "mb=MultinomialNB()\n",
        "mb.fit(X_train,y_train)\n",
        "y_pred=mb.predict(X_test)\n",
        "score=accuracy_score(y_pred,y_test)\n",
        "score"
      ],
      "execution_count": 0,
      "outputs": [
        {
          "output_type": "execute_result",
          "data": {
            "text/plain": [
              "0.5601060106010601"
            ]
          },
          "metadata": {
            "tags": []
          },
          "execution_count": 46
        }
      ]
    },
    {
      "cell_type": "code",
      "metadata": {
        "scrolled": false,
        "id": "64fu1kzWcKAn",
        "colab_type": "code",
        "colab": {},
        "outputId": "81d76125-6249-457b-963d-0428dfeecd41"
      },
      "source": [
        "rf=RandomForestClassifier()\n",
        "rf.fit(X_train,y_train)\n",
        "y_pred=rf.predict(X_test)\n",
        "score=accuracy_score(y_pred,y_test)\n",
        "score"
      ],
      "execution_count": 0,
      "outputs": [
        {
          "output_type": "stream",
          "text": [
            "C:\\Users\\vidya\\pythonfolder\\lib\\site-packages\\sklearn\\ensemble\\forest.py:245: FutureWarning: The default value of n_estimators will change from 10 in version 0.20 to 100 in 0.22.\n",
            "  \"10 in version 0.20 to 100 in 0.22.\", FutureWarning)\n"
          ],
          "name": "stderr"
        },
        {
          "output_type": "execute_result",
          "data": {
            "text/plain": [
              "0.5605060506050605"
            ]
          },
          "metadata": {
            "tags": []
          },
          "execution_count": 47
        }
      ]
    },
    {
      "cell_type": "markdown",
      "metadata": {
        "id": "W6wOGG7UcKAu",
        "colab_type": "text"
      },
      "source": [
        "#Test data processing"
      ]
    },
    {
      "cell_type": "code",
      "metadata": {
        "id": "geavmVrncKAw",
        "colab_type": "code",
        "colab": {}
      },
      "source": [
        "test_path=\"C:\\\\Users\\\\vidya\\\\Pictures\\\\twitter-sentiment-analysis2\\\\test.csv\"\n",
        "test_df=pd.read_csv(test_path,encoding = \"ISO-8859-1\")"
      ],
      "execution_count": 0,
      "outputs": []
    },
    {
      "cell_type": "code",
      "metadata": {
        "scrolled": true,
        "id": "gKRI6ATXcKAy",
        "colab_type": "code",
        "colab": {},
        "outputId": "9969797c-771e-4c88-8310-b8de0dcdb842"
      },
      "source": [
        "test_df.head()"
      ],
      "execution_count": 0,
      "outputs": [
        {
          "output_type": "execute_result",
          "data": {
            "text/html": [
              "<div>\n",
              "<style scoped>\n",
              "    .dataframe tbody tr th:only-of-type {\n",
              "        vertical-align: middle;\n",
              "    }\n",
              "\n",
              "    .dataframe tbody tr th {\n",
              "        vertical-align: top;\n",
              "    }\n",
              "\n",
              "    .dataframe thead th {\n",
              "        text-align: right;\n",
              "    }\n",
              "</style>\n",
              "<table border=\"1\" class=\"dataframe\">\n",
              "  <thead>\n",
              "    <tr style=\"text-align: right;\">\n",
              "      <th></th>\n",
              "      <th>ItemID</th>\n",
              "      <th>SentimentText</th>\n",
              "    </tr>\n",
              "  </thead>\n",
              "  <tbody>\n",
              "    <tr>\n",
              "      <th>0</th>\n",
              "      <td>1</td>\n",
              "      <td>is so sad for my APL frie...</td>\n",
              "    </tr>\n",
              "    <tr>\n",
              "      <th>1</th>\n",
              "      <td>2</td>\n",
              "      <td>I missed the New Moon trail...</td>\n",
              "    </tr>\n",
              "    <tr>\n",
              "      <th>2</th>\n",
              "      <td>3</td>\n",
              "      <td>omg its already 7:30 :O</td>\n",
              "    </tr>\n",
              "    <tr>\n",
              "      <th>3</th>\n",
              "      <td>4</td>\n",
              "      <td>.. Omgaga. Im sooo  im gunna CRy. I'...</td>\n",
              "    </tr>\n",
              "    <tr>\n",
              "      <th>4</th>\n",
              "      <td>5</td>\n",
              "      <td>i think mi bf is cheating on me!!!   ...</td>\n",
              "    </tr>\n",
              "  </tbody>\n",
              "</table>\n",
              "</div>"
            ],
            "text/plain": [
              "   ItemID                                      SentimentText\n",
              "0       1                       is so sad for my APL frie...\n",
              "1       2                     I missed the New Moon trail...\n",
              "2       3                            omg its already 7:30 :O\n",
              "3       4            .. Omgaga. Im sooo  im gunna CRy. I'...\n",
              "4       5           i think mi bf is cheating on me!!!   ..."
            ]
          },
          "metadata": {
            "tags": []
          },
          "execution_count": 49
        }
      ]
    },
    {
      "cell_type": "code",
      "metadata": {
        "id": "CbgXwaJLcKA1",
        "colab_type": "code",
        "colab": {},
        "outputId": "71c41c85-7d37-4578-80ea-aff0ae971258"
      },
      "source": [
        "len(test_df)"
      ],
      "execution_count": 0,
      "outputs": [
        {
          "output_type": "execute_result",
          "data": {
            "text/plain": [
              "299989"
            ]
          },
          "metadata": {
            "tags": []
          },
          "execution_count": 52
        }
      ]
    },
    {
      "cell_type": "code",
      "metadata": {
        "scrolled": true,
        "id": "cNQqR0aMcKA3",
        "colab_type": "code",
        "colab": {},
        "outputId": "9eecc510-4bfd-4855-8153-b1ad541d60b2"
      },
      "source": [
        "test_data=test_df.SentimentText.values\n",
        "\n",
        "len(test_data)"
      ],
      "execution_count": 0,
      "outputs": [
        {
          "output_type": "execute_result",
          "data": {
            "text/plain": [
              "299989"
            ]
          },
          "metadata": {
            "tags": []
          },
          "execution_count": 53
        }
      ]
    },
    {
      "cell_type": "code",
      "metadata": {
        "id": "xphVZsHxcKA6",
        "colab_type": "code",
        "colab": {}
      },
      "source": [
        "import nltk\n",
        "import re\n",
        "from nltk.corpus import stopwords\n",
        "from nltk.stem import WordNetLemmatizer  # lemmatizer\n",
        "lm=WordNetLemmatizer()\n",
        "final_test_sentiments =[]\n",
        "for i in range(0,len(test_data)):\n",
        "    test_sentences=re.sub(\"[^AZ-az]\",\" \",test_data[i])#remove punctuations\n",
        "    test_sentences=test_sentences.lower() #make all lowercase\n",
        "    test_sentences=test_sentences.split() #split to make words\n",
        "    test_sentences=[lm.lemmatize(words)for words in test_sentences if not words in stopwords.words(\"english\") ] #lamatise the words\n",
        "    test_sentences=\" \".join(test_sentences) #add those words \n",
        "    final_test_sentiments.append(test_sentences) #make a final list with data"
      ],
      "execution_count": 0,
      "outputs": []
    },
    {
      "cell_type": "code",
      "metadata": {
        "id": "l0zCknWvcKA-",
        "colab_type": "code",
        "colab": {},
        "outputId": "4aada694-705f-46b3-fafa-f0b6b397ecb9"
      },
      "source": [
        "len(final_test_sentiments)"
      ],
      "execution_count": 0,
      "outputs": [
        {
          "output_type": "execute_result",
          "data": {
            "text/plain": [
              "299989"
            ]
          },
          "metadata": {
            "tags": []
          },
          "execution_count": 80
        }
      ]
    },
    {
      "cell_type": "code",
      "metadata": {
        "id": "rD-XO4tDcKBA",
        "colab_type": "code",
        "colab": {}
      },
      "source": [
        "#converting the words into numbers for TF-idf\n",
        "from sklearn.feature_extraction.text import TfidfVectorizer\n",
        "tf=TfidfVectorizer(max_features=110) #since the model has 110 features\n",
        "X_valid=tf.fit_transform(final_test_sentiments).toarray()"
      ],
      "execution_count": 0,
      "outputs": []
    },
    {
      "cell_type": "code",
      "metadata": {
        "id": "28Y-9OXrcKBD",
        "colab_type": "code",
        "colab": {},
        "outputId": "d2784e00-db82-4bcd-dc09-31716c377c5a"
      },
      "source": [
        "X_valid.shape"
      ],
      "execution_count": 0,
      "outputs": [
        {
          "output_type": "execute_result",
          "data": {
            "text/plain": [
              "(299989, 110)"
            ]
          },
          "metadata": {
            "tags": []
          },
          "execution_count": 88
        }
      ]
    },
    {
      "cell_type": "code",
      "metadata": {
        "id": "K_az6uAVcKBF",
        "colab_type": "code",
        "colab": {}
      },
      "source": [
        "y_valid=rf.predict(X_valid)  #predictions"
      ],
      "execution_count": 0,
      "outputs": []
    },
    {
      "cell_type": "code",
      "metadata": {
        "scrolled": true,
        "id": "qzzgMUvccKBH",
        "colab_type": "code",
        "colab": {}
      },
      "source": [
        "y_predict=[]\n",
        "for predictions  in y_valid:\n",
        "    y_predict.append(predictions)"
      ],
      "execution_count": 0,
      "outputs": []
    },
    {
      "cell_type": "code",
      "metadata": {
        "id": "ZyffujqtcKBM",
        "colab_type": "code",
        "colab": {},
        "outputId": "a597cd52-a233-4a5c-a758-29843c372e89"
      },
      "source": [
        "len(y_predict)"
      ],
      "execution_count": 0,
      "outputs": [
        {
          "output_type": "execute_result",
          "data": {
            "text/plain": [
              "299989"
            ]
          },
          "metadata": {
            "tags": []
          },
          "execution_count": 94
        }
      ]
    },
    {
      "cell_type": "code",
      "metadata": {
        "id": "PEAlnnSscKBZ",
        "colab_type": "code",
        "colab": {}
      },
      "source": [
        "valid_df=pd.DataFrame(y_predict,columns=[\"Sentiment\"])"
      ],
      "execution_count": 0,
      "outputs": []
    },
    {
      "cell_type": "code",
      "metadata": {
        "scrolled": true,
        "id": "5rhbAWpDcKBb",
        "colab_type": "code",
        "colab": {},
        "outputId": "57c22abb-31e4-4695-e386-064ac8b5107d"
      },
      "source": [
        "len(valid_df)"
      ],
      "execution_count": 0,
      "outputs": [
        {
          "output_type": "execute_result",
          "data": {
            "text/plain": [
              "299989"
            ]
          },
          "metadata": {
            "tags": []
          },
          "execution_count": 96
        }
      ]
    },
    {
      "cell_type": "code",
      "metadata": {
        "id": "rlTGYCXlcKBe",
        "colab_type": "code",
        "colab": {}
      },
      "source": [
        "ItemID=[]\n",
        "for i in range(1,299990):\n",
        "    ItemID.append(i)"
      ],
      "execution_count": 0,
      "outputs": []
    },
    {
      "cell_type": "code",
      "metadata": {
        "scrolled": true,
        "id": "H-P8jqlzcKBg",
        "colab_type": "code",
        "colab": {},
        "outputId": "418ed63b-6412-424d-a216-2bbf832c2a4a"
      },
      "source": [
        "len(ItemID)"
      ],
      "execution_count": 0,
      "outputs": [
        {
          "output_type": "execute_result",
          "data": {
            "text/plain": [
              "299989"
            ]
          },
          "metadata": {
            "tags": []
          },
          "execution_count": 103
        }
      ]
    },
    {
      "cell_type": "code",
      "metadata": {
        "id": "OutDteb4cKBi",
        "colab_type": "code",
        "colab": {}
      },
      "source": [
        "ItemID=pd.DataFrame(ItemID,columns=[\"ItemID\"])"
      ],
      "execution_count": 0,
      "outputs": []
    },
    {
      "cell_type": "code",
      "metadata": {
        "scrolled": true,
        "id": "mGXoanMBcKBl",
        "colab_type": "code",
        "colab": {},
        "outputId": "b405717d-2928-4a5c-ac9c-90d9cca8ac7a"
      },
      "source": [
        "ItemID.head()"
      ],
      "execution_count": 0,
      "outputs": [
        {
          "output_type": "execute_result",
          "data": {
            "text/html": [
              "<div>\n",
              "<style scoped>\n",
              "    .dataframe tbody tr th:only-of-type {\n",
              "        vertical-align: middle;\n",
              "    }\n",
              "\n",
              "    .dataframe tbody tr th {\n",
              "        vertical-align: top;\n",
              "    }\n",
              "\n",
              "    .dataframe thead th {\n",
              "        text-align: right;\n",
              "    }\n",
              "</style>\n",
              "<table border=\"1\" class=\"dataframe\">\n",
              "  <thead>\n",
              "    <tr style=\"text-align: right;\">\n",
              "      <th></th>\n",
              "      <th>ItemID</th>\n",
              "    </tr>\n",
              "  </thead>\n",
              "  <tbody>\n",
              "    <tr>\n",
              "      <th>0</th>\n",
              "      <td>1</td>\n",
              "    </tr>\n",
              "    <tr>\n",
              "      <th>1</th>\n",
              "      <td>2</td>\n",
              "    </tr>\n",
              "    <tr>\n",
              "      <th>2</th>\n",
              "      <td>3</td>\n",
              "    </tr>\n",
              "    <tr>\n",
              "      <th>3</th>\n",
              "      <td>4</td>\n",
              "    </tr>\n",
              "    <tr>\n",
              "      <th>4</th>\n",
              "      <td>5</td>\n",
              "    </tr>\n",
              "  </tbody>\n",
              "</table>\n",
              "</div>"
            ],
            "text/plain": [
              "   ItemID\n",
              "0       1\n",
              "1       2\n",
              "2       3\n",
              "3       4\n",
              "4       5"
            ]
          },
          "metadata": {
            "tags": []
          },
          "execution_count": 105
        }
      ]
    },
    {
      "cell_type": "code",
      "metadata": {
        "id": "RC2QcqfncKBo",
        "colab_type": "code",
        "colab": {}
      },
      "source": [
        "sumbinssion_df=pd.concat([ItemID,valid_df],axis=1)"
      ],
      "execution_count": 0,
      "outputs": []
    },
    {
      "cell_type": "code",
      "metadata": {
        "id": "jh4Lat2acKBq",
        "colab_type": "code",
        "colab": {}
      },
      "source": [
        "submission_data=sumbinssion_df.to_csv(\"C:\\\\Users\\\\vidya\\\\Pictures\\\\twitter-sentiment-analysis2\\\\submission.csv\",index=False)"
      ],
      "execution_count": 0,
      "outputs": []
    }
  ]
}